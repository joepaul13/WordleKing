{
  "nbformat": 4,
  "nbformat_minor": 0,
  "metadata": {
    "colab": {
      "provenance": [],
      "authorship_tag": "ABX9TyN7vcnlEBizd+0UXjSvN9KC",
      "include_colab_link": true
    },
    "kernelspec": {
      "name": "python3",
      "display_name": "Python 3"
    },
    "language_info": {
      "name": "python"
    }
  },
  "cells": [
    {
      "cell_type": "markdown",
      "metadata": {
        "id": "view-in-github",
        "colab_type": "text"
      },
      "source": [
        "<a href=\"https://colab.research.google.com/github/joepaul13/WordleKing/blob/main/WordleKing.ipynb\" target=\"_parent\"><img src=\"https://colab.research.google.com/assets/colab-badge.svg\" alt=\"Open In Colab\"/></a>"
      ]
    },
    {
      "cell_type": "code",
      "execution_count": null,
      "metadata": {
        "id": "qcJOpRs3DWwl",
        "colab": {
          "base_uri": "https://localhost:8080/"
        },
        "outputId": "ffc02d8f-26ab-4a9b-bd23-0b4edb84e121"
      },
      "outputs": [
        {
          "output_type": "stream",
          "name": "stderr",
          "text": [
            "[nltk_data] Downloading package words to /root/nltk_data...\n",
            "[nltk_data]   Unzipping corpora/words.zip.\n"
          ]
        },
        {
          "output_type": "execute_result",
          "data": {
            "text/plain": [
              "True"
            ]
          },
          "metadata": {},
          "execution_count": 1
        }
      ],
      "source": [
        "import nltk\n",
        "import string\n",
        "import copy\n",
        "import re\n",
        "import pandas as pd\n",
        "import numpy as np\n",
        "import seaborn as sns\n",
        "\n",
        "from tqdm import tqdm\n",
        "import matplotlib.pyplot as plt\n",
        "from collections import defaultdict, Counter\n",
        "nltk.download('words')"
      ]
    },
    {
      "cell_type": "code",
      "source": [
        "with open('answers.txt') as file:\n",
        "  possible_answers = file.readlines()\n",
        "  list_possible_answers = sorted([re.sub(r'[^A-Z]', '', t.upper()) for t in possible_answers[0].split(',')])\n",
        "  print(len(list_possible_answers), list_possible_answers[:5])"
      ],
      "metadata": {
        "colab": {
          "base_uri": "https://localhost:8080/"
        },
        "id": "6MeYhMwfSl1Z",
        "outputId": "69537eab-8ee1-40fa-a7e7-eabb3bfee034"
      },
      "execution_count": null,
      "outputs": [
        {
          "output_type": "stream",
          "name": "stdout",
          "text": [
            "2315 ['ABACK', 'ABASE', 'ABATE', 'ABBEY', 'ABBOT']\n"
          ]
        }
      ]
    },
    {
      "cell_type": "code",
      "source": [
        "arr_words_5l = np.array([list(w) for w in list_possible_answers])\n",
        "df_words_5l = pd.DataFrame(data=arr_words_5l, columns=[f'letter_{i+1}' for i in range(5)])\n",
        "df_words_5l['word'] = list_possible_answers\n",
        "df_words_5l.head()"
      ],
      "metadata": {
        "colab": {
          "base_uri": "https://localhost:8080/",
          "height": 206
        },
        "id": "ZACqOiLqTK-b",
        "outputId": "749ebe7c-31f0-46ac-fecd-9f70fc5fbe27"
      },
      "execution_count": null,
      "outputs": [
        {
          "output_type": "execute_result",
          "data": {
            "text/plain": [
              "  letter_1 letter_2 letter_3 letter_4 letter_5   word\n",
              "0        A        B        A        C        K  ABACK\n",
              "1        A        B        A        S        E  ABASE\n",
              "2        A        B        A        T        E  ABATE\n",
              "3        A        B        B        E        Y  ABBEY\n",
              "4        A        B        B        O        T  ABBOT"
            ],
            "text/html": [
              "\n",
              "  <div id=\"df-d3ec1d3e-4f46-4c17-8d34-21231a221e22\">\n",
              "    <div class=\"colab-df-container\">\n",
              "      <div>\n",
              "<style scoped>\n",
              "    .dataframe tbody tr th:only-of-type {\n",
              "        vertical-align: middle;\n",
              "    }\n",
              "\n",
              "    .dataframe tbody tr th {\n",
              "        vertical-align: top;\n",
              "    }\n",
              "\n",
              "    .dataframe thead th {\n",
              "        text-align: right;\n",
              "    }\n",
              "</style>\n",
              "<table border=\"1\" class=\"dataframe\">\n",
              "  <thead>\n",
              "    <tr style=\"text-align: right;\">\n",
              "      <th></th>\n",
              "      <th>letter_1</th>\n",
              "      <th>letter_2</th>\n",
              "      <th>letter_3</th>\n",
              "      <th>letter_4</th>\n",
              "      <th>letter_5</th>\n",
              "      <th>word</th>\n",
              "    </tr>\n",
              "  </thead>\n",
              "  <tbody>\n",
              "    <tr>\n",
              "      <th>0</th>\n",
              "      <td>A</td>\n",
              "      <td>B</td>\n",
              "      <td>A</td>\n",
              "      <td>C</td>\n",
              "      <td>K</td>\n",
              "      <td>ABACK</td>\n",
              "    </tr>\n",
              "    <tr>\n",
              "      <th>1</th>\n",
              "      <td>A</td>\n",
              "      <td>B</td>\n",
              "      <td>A</td>\n",
              "      <td>S</td>\n",
              "      <td>E</td>\n",
              "      <td>ABASE</td>\n",
              "    </tr>\n",
              "    <tr>\n",
              "      <th>2</th>\n",
              "      <td>A</td>\n",
              "      <td>B</td>\n",
              "      <td>A</td>\n",
              "      <td>T</td>\n",
              "      <td>E</td>\n",
              "      <td>ABATE</td>\n",
              "    </tr>\n",
              "    <tr>\n",
              "      <th>3</th>\n",
              "      <td>A</td>\n",
              "      <td>B</td>\n",
              "      <td>B</td>\n",
              "      <td>E</td>\n",
              "      <td>Y</td>\n",
              "      <td>ABBEY</td>\n",
              "    </tr>\n",
              "    <tr>\n",
              "      <th>4</th>\n",
              "      <td>A</td>\n",
              "      <td>B</td>\n",
              "      <td>B</td>\n",
              "      <td>O</td>\n",
              "      <td>T</td>\n",
              "      <td>ABBOT</td>\n",
              "    </tr>\n",
              "  </tbody>\n",
              "</table>\n",
              "</div>\n",
              "      <button class=\"colab-df-convert\" onclick=\"convertToInteractive('df-d3ec1d3e-4f46-4c17-8d34-21231a221e22')\"\n",
              "              title=\"Convert this dataframe to an interactive table.\"\n",
              "              style=\"display:none;\">\n",
              "        \n",
              "  <svg xmlns=\"http://www.w3.org/2000/svg\" height=\"24px\"viewBox=\"0 0 24 24\"\n",
              "       width=\"24px\">\n",
              "    <path d=\"M0 0h24v24H0V0z\" fill=\"none\"/>\n",
              "    <path d=\"M18.56 5.44l.94 2.06.94-2.06 2.06-.94-2.06-.94-.94-2.06-.94 2.06-2.06.94zm-11 1L8.5 8.5l.94-2.06 2.06-.94-2.06-.94L8.5 2.5l-.94 2.06-2.06.94zm10 10l.94 2.06.94-2.06 2.06-.94-2.06-.94-.94-2.06-.94 2.06-2.06.94z\"/><path d=\"M17.41 7.96l-1.37-1.37c-.4-.4-.92-.59-1.43-.59-.52 0-1.04.2-1.43.59L10.3 9.45l-7.72 7.72c-.78.78-.78 2.05 0 2.83L4 21.41c.39.39.9.59 1.41.59.51 0 1.02-.2 1.41-.59l7.78-7.78 2.81-2.81c.8-.78.8-2.07 0-2.86zM5.41 20L4 18.59l7.72-7.72 1.47 1.35L5.41 20z\"/>\n",
              "  </svg>\n",
              "      </button>\n",
              "      \n",
              "  <style>\n",
              "    .colab-df-container {\n",
              "      display:flex;\n",
              "      flex-wrap:wrap;\n",
              "      gap: 12px;\n",
              "    }\n",
              "\n",
              "    .colab-df-convert {\n",
              "      background-color: #E8F0FE;\n",
              "      border: none;\n",
              "      border-radius: 50%;\n",
              "      cursor: pointer;\n",
              "      display: none;\n",
              "      fill: #1967D2;\n",
              "      height: 32px;\n",
              "      padding: 0 0 0 0;\n",
              "      width: 32px;\n",
              "    }\n",
              "\n",
              "    .colab-df-convert:hover {\n",
              "      background-color: #E2EBFA;\n",
              "      box-shadow: 0px 1px 2px rgba(60, 64, 67, 0.3), 0px 1px 3px 1px rgba(60, 64, 67, 0.15);\n",
              "      fill: #174EA6;\n",
              "    }\n",
              "\n",
              "    [theme=dark] .colab-df-convert {\n",
              "      background-color: #3B4455;\n",
              "      fill: #D2E3FC;\n",
              "    }\n",
              "\n",
              "    [theme=dark] .colab-df-convert:hover {\n",
              "      background-color: #434B5C;\n",
              "      box-shadow: 0px 1px 3px 1px rgba(0, 0, 0, 0.15);\n",
              "      filter: drop-shadow(0px 1px 2px rgba(0, 0, 0, 0.3));\n",
              "      fill: #FFFFFF;\n",
              "    }\n",
              "  </style>\n",
              "\n",
              "      <script>\n",
              "        const buttonEl =\n",
              "          document.querySelector('#df-d3ec1d3e-4f46-4c17-8d34-21231a221e22 button.colab-df-convert');\n",
              "        buttonEl.style.display =\n",
              "          google.colab.kernel.accessAllowed ? 'block' : 'none';\n",
              "\n",
              "        async function convertToInteractive(key) {\n",
              "          const element = document.querySelector('#df-d3ec1d3e-4f46-4c17-8d34-21231a221e22');\n",
              "          const dataTable =\n",
              "            await google.colab.kernel.invokeFunction('convertToInteractive',\n",
              "                                                     [key], {});\n",
              "          if (!dataTable) return;\n",
              "\n",
              "          const docLinkHtml = 'Like what you see? Visit the ' +\n",
              "            '<a target=\"_blank\" href=https://colab.research.google.com/notebooks/data_table.ipynb>data table notebook</a>'\n",
              "            + ' to learn more about interactive tables.';\n",
              "          element.innerHTML = '';\n",
              "          dataTable['output_type'] = 'display_data';\n",
              "          await google.colab.output.renderOutput(dataTable, element);\n",
              "          const docLink = document.createElement('div');\n",
              "          docLink.innerHTML = docLinkHtml;\n",
              "          element.appendChild(docLink);\n",
              "        }\n",
              "      </script>\n",
              "    </div>\n",
              "  </div>\n",
              "  "
            ]
          },
          "metadata": {},
          "execution_count": 3
        }
      ]
    },
    {
      "cell_type": "code",
      "source": [
        "test_dict_letter_counts = Counter()\n",
        "for i in range(5):\n",
        "   test_dict_letter_counts[i+1] = Counter(df_words_5l[f'letter_{i+1}'])\n",
        "test_dict_letter_counts[1]"
      ],
      "metadata": {
        "colab": {
          "base_uri": "https://localhost:8080/"
        },
        "id": "MnF9EB-GULzz",
        "outputId": "86cba975-fe0d-42b1-f76a-bd2bee29488e"
      },
      "execution_count": null,
      "outputs": [
        {
          "output_type": "execute_result",
          "data": {
            "text/plain": [
              "Counter({'A': 141,\n",
              "         'B': 173,\n",
              "         'C': 198,\n",
              "         'D': 111,\n",
              "         'E': 72,\n",
              "         'F': 136,\n",
              "         'G': 115,\n",
              "         'H': 69,\n",
              "         'I': 34,\n",
              "         'J': 20,\n",
              "         'K': 20,\n",
              "         'L': 88,\n",
              "         'M': 107,\n",
              "         'N': 37,\n",
              "         'O': 41,\n",
              "         'P': 142,\n",
              "         'Q': 23,\n",
              "         'R': 105,\n",
              "         'S': 366,\n",
              "         'T': 149,\n",
              "         'U': 33,\n",
              "         'V': 43,\n",
              "         'W': 83,\n",
              "         'Y': 6,\n",
              "         'Z': 3})"
            ]
          },
          "metadata": {},
          "execution_count": 4
        }
      ]
    },
    {
      "cell_type": "code",
      "source": [
        "class Game:\n",
        "  def __init__(self, df_all_5l_words):\n",
        "    self.possible_letters = list(string.ascii_uppercase)\n",
        "    self.dict_misplaced_letters = Counter()\n",
        "    self.df_possible_5l_words = df_all_5l_words.copy(deep = True)\n",
        "    self.dict_letters = defaultdict(str)\n",
        "    for i in range(5):\n",
        "      self.dict_letters[i+1] = None\n",
        "    self.dict_letter_counts = defaultdict(str)\n",
        "    for i in range(5):\n",
        "      self.dict_letter_counts = Counter(df_all_5l_words[f'letter_{i+1}'])\n",
        "\n",
        "  def calculate_freq_score(self, letters:str) -> int:\n",
        "    letters = re.sub('^A-Z', '', letters.upper())\n",
        "    assert len(letters) == 5, 'Word must be 5 characters long'\n",
        "    score = 0\n",
        "    for i,l in enumerate(list(letters.upper())):\n",
        "      score += self.dict_letter_counts[i+1][l]\n",
        "    return score\n",
        "\n",
        "  def guess(self):\n",
        "    for i in range(5):\n",
        "      self.dict_letter_counts[i+1] = Counter(self.df_possible_5l_words[f'letter_{i+1}'])\n",
        "    vect_calculate_freq_score = np.vectorize(self.calculate_freq_score)\n",
        "    self.df_possible_5l_words['freq_score'] = vect_calculate_freq_score(self.df_possible_5l_words['word'])\n",
        "    self.df_possible_5l_words = self.df_possible_5l_words.sort_values(by='freq_score', ascending=False)\n",
        "    return self.df_possible_5l_words\n",
        "\n",
        "  def check_misplaced_letters(self, word: str) -> bool:\n",
        "    word = re.sub(r'[^A-Z]', '', word.upper())\n",
        "    assert len(word) == 5, 'Word must be 5 characters long'\n",
        "    list_word = list(word)\n",
        "    not_solved = [key for key, value in self.dict_letters.items() if value is None]\n",
        "    list_word_unsolved = [list_word[i-1] for i in not_solved]\n",
        "    dict_count_letters = Counter(list_word_unsolved)\n",
        "    valid = True\n",
        "    for check_key, check_value in self.dict_misplaced_letters.items():\n",
        "        if dict_count_letters[check_key] < check_value:\n",
        "            valid = False    \n",
        "    return valid\n",
        "\n",
        "\n",
        "  def update(self, guess: str, results: list):\n",
        "    guess = re.sub(r'[^A-Z]', '', guess.upper())\n",
        "    assert len(guess) == 5, 'Guess must be 5 characters long'\n",
        "    assert len(results) == 5, 'Results list must contain 5 items'\n",
        "    assert all([n in [0,1,2] for n in results]), 'Results list must only contain ints 0, 1, or 2'\n",
        "    list_guess = list(guess.upper())\n",
        "    df_guess_results = pd.DataFrame(data=list(zip(list_guess, results)), columns=['letter', 'result'], index=np.arange(1,6))\n",
        "    already_solved = [key for key, value in self.dict_letters.items() if value is not None]\n",
        "    df_corr_answers = df_guess_results.query('result==2')\n",
        "    if df_corr_answers.shape[0] > 0:\n",
        "        for idx, row in df_corr_answers.iterrows():\n",
        "            if idx in already_solved:\n",
        "                pass\n",
        "            else:\n",
        "                corr_letter = row['letter']\n",
        "                self.dict_letters[idx] = corr_letter\n",
        "                if corr_letter in self.dict_misplaced_letters.keys():\n",
        "                    self.dict_misplaced_letters[corr_letter] -= 1\n",
        "                self.df_possible_5l_words = self.df_possible_5l_words.query(f'letter_{idx}==\"{corr_letter}\"')\n",
        "    df_mispl_answers = df_guess_results.query('result==1')\n",
        "    if df_mispl_answers.shape[0] > 0:\n",
        "      for idx, row in df_mispl_answers.iterrows():\n",
        "            mispl_letter = row['letter']\n",
        "            self.df_possible_5l_words = self.df_possible_5l_words.query(f'letter_{idx}!=\"{mispl_letter}\"')  \n",
        "      guess_mispl_letters = df_mispl_answers['letter'].values\n",
        "      dict_guess_mispl_letters = Counter(guess_mispl_letters)\n",
        "      for key, value in dict_guess_mispl_letters.items():\n",
        "          self.dict_misplaced_letters[key] = value   \n",
        "      vect_check_misplaced_letters = np.vectorize(self.check_misplaced_letters)\n",
        "      self.df_possible_5l_words['valid'] = vect_check_misplaced_letters(self.df_possible_5l_words['word'])\n",
        "      self.df_possible_5l_words = self.df_possible_5l_words.query('valid == True')\n",
        "      self.df_possible_5l_words = self.df_possible_5l_words.drop('valid', axis=1)    \n",
        "    df_wrong_answers = df_guess_results.query('result==0')\n",
        "    if df_wrong_answers.shape[0] > 0:\n",
        "        for l in df_wrong_answers['letter'].unique():\n",
        "            if self.dict_misplaced_letters[l] == 0:\n",
        "                self.possible_letters.remove(l)\n",
        "    yet_to_solve = [key for key, value in self.dict_letters.items() if value is None]\n",
        "    for position in yet_to_solve:\n",
        "        position_letters = self.df_possible_5l_words[f'letter_{position}']\n",
        "        position_in_possible_letters = [l in self.possible_letters for l in position_letters]\n",
        "        self.df_possible_5l_words = self.df_possible_5l_words[position_in_possible_letters].copy(deep=True)"
      ],
      "metadata": {
        "id": "pCqLyd2hY-ey"
      },
      "execution_count": null,
      "outputs": []
    },
    {
      "cell_type": "code",
      "source": [
        "def play_game(target_word, df_possible_words, debug=False):\n",
        "  target_word = re.sub(r'[^A-Z]', '', target_word.upper())\n",
        "  assert len(target_word) == 5, 'target_word must be 5 characters long'\n",
        "  assert all(df_possible_words.columns == ['letter_1', 'letter_2', 'letter_3', 'letter_4', 'letter_5', 'word']), \"Dataframe must have columns ['letter_1', 'letter_2', 'letter_3', 'letter_4', 'letter_5', 'word']\"\n",
        "  \n",
        "  TestGame = Game(df_possible_words)\n",
        "  target_letters = list(target_word)\n",
        "  for guess_turn in range(6):\n",
        "    guess_word = TestGame.guess().iloc[0]['word']\n",
        "    guess_letters = list(guess_word)\n",
        "    dict_results = defaultdict(str)\n",
        "    for i in range(5):\n",
        "      dict_results[i] = None\n",
        "\n",
        "    for pos, guess_letter in enumerate(guess_letters):\n",
        "      if guess_letter == target_letters[pos]:\n",
        "        dict_results[pos] = 2\n",
        "    remaining_pos = [key for key, value in dict_results.items() if value is None]\n",
        "    if len(remaining_pos) == 0:\n",
        "      results = [2,2,2,2,2]\n",
        "    else:\n",
        "      remaining_guess_letters = [[guess_letters[i], i] for i in remaining_pos]\n",
        "      remaining_target_letters = [target_letters[i] for i in remaining_pos]\n",
        "      dict_target_letter_count = Counter(remaining_target_letters)\n",
        "      for [letter, pos] in remaining_guess_letters:\n",
        "        if dict_target_letter_count[letter] > 0:\n",
        "          dict_target_letter_count[letter] -= 1\n",
        "          dict_results[pos] = 1\n",
        "        else:\n",
        "          dict_results[pos] = 0\n",
        "      results = list(dict_results.values())\n",
        "    if debug:\n",
        "      print(f'Turn {guess_turn+1}, guess {guess_word}, results {results}\\n')\n",
        "    if np.sum(results) == 10:\n",
        "      if debug:\n",
        "        print('Game won!')\n",
        "      else:\n",
        "        return (target_word, guess_turn+1)\n",
        "      break\n",
        "    if guess_turn == 5:\n",
        "      if debug:\n",
        "        print('Unsolved!')\n",
        "      else:\n",
        "        return (target_word, 7)\n",
        "    TestGame.update(guess_word, results)"
      ],
      "metadata": {
        "id": "NupACwsY1F5y"
      },
      "execution_count": null,
      "outputs": []
    },
    {
      "cell_type": "code",
      "source": [
        "rand_keys = np.random.randint(low=0, high=len(list_possible_answers), size=2)\n",
        "rand_words = [list_possible_answers[k] for k in rand_keys]\n",
        "\n",
        "for i, word in enumerate(rand_words):\n",
        "    print(f'**GAME {i}: target {word}**')\n",
        "    play_game(word, df_words_5l, debug=True)\n",
        "    print('\\n')\n"
      ],
      "metadata": {
        "colab": {
          "base_uri": "https://localhost:8080/"
        },
        "id": "Yb_M_xi8FQav",
        "outputId": "6497b363-b16a-47b5-a9fb-c5fc2f16d961"
      },
      "execution_count": null,
      "outputs": [
        {
          "output_type": "stream",
          "name": "stdout",
          "text": [
            "**GAME 0: target CHAFF**\n",
            "Turn 1, guess SLATE, results [0, 0, 2, 0, 0]\n",
            "\n",
            "Turn 2, guess CRACK, results [2, 0, 2, 0, 0]\n",
            "\n",
            "Turn 3, guess CHAIN, results [2, 2, 2, 0, 0]\n",
            "\n",
            "Turn 4, guess CHAMP, results [2, 2, 2, 0, 0]\n",
            "\n",
            "Turn 5, guess CHAFF, results [2, 2, 2, 2, 2]\n",
            "\n",
            "Game won!\n",
            "\n",
            "\n",
            "**GAME 1: target MAKER**\n",
            "Turn 1, guess SLATE, results [0, 0, 1, 0, 1]\n",
            "\n",
            "Turn 2, guess RACER, results [0, 2, 0, 2, 2]\n",
            "\n",
            "Turn 3, guess WAGER, results [0, 2, 0, 2, 2]\n",
            "\n",
            "Turn 4, guess PAYER, results [0, 2, 0, 2, 2]\n",
            "\n",
            "Turn 5, guess BAKER, results [0, 2, 2, 2, 2]\n",
            "\n",
            "Turn 6, guess MAKER, results [2, 2, 2, 2, 2]\n",
            "\n",
            "Game won!\n",
            "\n",
            "\n"
          ]
        }
      ]
    },
    {
      "cell_type": "code",
      "source": [
        "all_results = []\n",
        "for answer in tqdm(list_possible_answers):\n",
        "    all_results.append(play_game(answer, df_words_5l, debug=False))\n",
        "all_results[:10]"
      ],
      "metadata": {
        "colab": {
          "base_uri": "https://localhost:8080/"
        },
        "id": "YBWRH8hXqiAW",
        "outputId": "4e9c4a5f-c50d-448c-a736-bc0068054bcc"
      },
      "execution_count": null,
      "outputs": [
        {
          "output_type": "stream",
          "name": "stderr",
          "text": [
            "  3%|▎         | 79/2315 [00:06<02:48, 13.25it/s]<ipython-input-5-c7b3ae1debe2>:72: SettingWithCopyWarning: \n",
            "A value is trying to be set on a copy of a slice from a DataFrame.\n",
            "Try using .loc[row_indexer,col_indexer] = value instead\n",
            "\n",
            "See the caveats in the documentation: https://pandas.pydata.org/pandas-docs/stable/user_guide/indexing.html#returning-a-view-versus-a-copy\n",
            "  self.df_possible_5l_words['valid'] = vect_check_misplaced_letters(self.df_possible_5l_words['word'])\n",
            "  6%|▋         | 146/2315 [00:10<02:11, 16.45it/s]<ipython-input-5-c7b3ae1debe2>:72: SettingWithCopyWarning: \n",
            "A value is trying to be set on a copy of a slice from a DataFrame.\n",
            "Try using .loc[row_indexer,col_indexer] = value instead\n",
            "\n",
            "See the caveats in the documentation: https://pandas.pydata.org/pandas-docs/stable/user_guide/indexing.html#returning-a-view-versus-a-copy\n",
            "  self.df_possible_5l_words['valid'] = vect_check_misplaced_letters(self.df_possible_5l_words['word'])\n",
            " 52%|█████▏    | 1194/2315 [01:10<01:06, 16.89it/s]<ipython-input-5-c7b3ae1debe2>:72: SettingWithCopyWarning: \n",
            "A value is trying to be set on a copy of a slice from a DataFrame.\n",
            "Try using .loc[row_indexer,col_indexer] = value instead\n",
            "\n",
            "See the caveats in the documentation: https://pandas.pydata.org/pandas-docs/stable/user_guide/indexing.html#returning-a-view-versus-a-copy\n",
            "  self.df_possible_5l_words['valid'] = vect_check_misplaced_letters(self.df_possible_5l_words['word'])\n",
            " 58%|█████▊    | 1336/2315 [01:18<00:51, 19.10it/s]<ipython-input-5-c7b3ae1debe2>:72: SettingWithCopyWarning: \n",
            "A value is trying to be set on a copy of a slice from a DataFrame.\n",
            "Try using .loc[row_indexer,col_indexer] = value instead\n",
            "\n",
            "See the caveats in the documentation: https://pandas.pydata.org/pandas-docs/stable/user_guide/indexing.html#returning-a-view-versus-a-copy\n",
            "  self.df_possible_5l_words['valid'] = vect_check_misplaced_letters(self.df_possible_5l_words['word'])\n",
            " 65%|██████▌   | 1511/2315 [01:28<00:36, 21.75it/s]<ipython-input-5-c7b3ae1debe2>:72: SettingWithCopyWarning: \n",
            "A value is trying to be set on a copy of a slice from a DataFrame.\n",
            "Try using .loc[row_indexer,col_indexer] = value instead\n",
            "\n",
            "See the caveats in the documentation: https://pandas.pydata.org/pandas-docs/stable/user_guide/indexing.html#returning-a-view-versus-a-copy\n",
            "  self.df_possible_5l_words['valid'] = vect_check_misplaced_letters(self.df_possible_5l_words['word'])\n",
            " 66%|██████▌   | 1528/2315 [01:29<00:37, 20.82it/s]<ipython-input-5-c7b3ae1debe2>:72: SettingWithCopyWarning: \n",
            "A value is trying to be set on a copy of a slice from a DataFrame.\n",
            "Try using .loc[row_indexer,col_indexer] = value instead\n",
            "\n",
            "See the caveats in the documentation: https://pandas.pydata.org/pandas-docs/stable/user_guide/indexing.html#returning-a-view-versus-a-copy\n",
            "  self.df_possible_5l_words['valid'] = vect_check_misplaced_letters(self.df_possible_5l_words['word'])\n",
            " 70%|██████▉   | 1619/2315 [01:36<00:50, 13.88it/s]<ipython-input-5-c7b3ae1debe2>:72: SettingWithCopyWarning: \n",
            "A value is trying to be set on a copy of a slice from a DataFrame.\n",
            "Try using .loc[row_indexer,col_indexer] = value instead\n",
            "\n",
            "See the caveats in the documentation: https://pandas.pydata.org/pandas-docs/stable/user_guide/indexing.html#returning-a-view-versus-a-copy\n",
            "  self.df_possible_5l_words['valid'] = vect_check_misplaced_letters(self.df_possible_5l_words['word'])\n",
            " 96%|█████████▌| 2214/2315 [02:07<00:05, 17.97it/s]<ipython-input-5-c7b3ae1debe2>:72: SettingWithCopyWarning: \n",
            "A value is trying to be set on a copy of a slice from a DataFrame.\n",
            "Try using .loc[row_indexer,col_indexer] = value instead\n",
            "\n",
            "See the caveats in the documentation: https://pandas.pydata.org/pandas-docs/stable/user_guide/indexing.html#returning-a-view-versus-a-copy\n",
            "  self.df_possible_5l_words['valid'] = vect_check_misplaced_letters(self.df_possible_5l_words['word'])\n",
            "100%|██████████| 2315/2315 [02:13<00:00, 17.29it/s]\n"
          ]
        },
        {
          "output_type": "execute_result",
          "data": {
            "text/plain": [
              "[('ABACK', 5),\n",
              " ('ABASE', 4),\n",
              " ('ABATE', 3),\n",
              " ('ABBEY', 4),\n",
              " ('ABBOT', 4),\n",
              " ('ABHOR', 4),\n",
              " ('ABIDE', 4),\n",
              " ('ABLED', 4),\n",
              " ('ABODE', 3),\n",
              " ('ABORT', 4)]"
            ]
          },
          "metadata": {},
          "execution_count": 8
        }
      ]
    },
    {
      "cell_type": "code",
      "source": [
        "df_all_results = pd.DataFrame(data=all_results,\n",
        "                              columns=['word', 'turns_taken'])\n",
        "print('Average turns taken: {:.2f}'.format(df_all_results['turns_taken'].mean()),\n",
        "      'Unsolved words: {}'.format(df_all_results.query('turns_taken==7').shape[0]),\n",
        "      sep='\\n')\n",
        "sns.histplot(data=df_all_results['turns_taken'],\n",
        "             discrete=True)"
      ],
      "metadata": {
        "colab": {
          "base_uri": "https://localhost:8080/",
          "height": 504
        },
        "id": "Al4OtqPbqo9J",
        "outputId": "4f76d836-35d7-4b11-8669-bdba718e2e23"
      },
      "execution_count": null,
      "outputs": [
        {
          "output_type": "stream",
          "name": "stdout",
          "text": [
            "Average turns taken: 3.67\n",
            "Unsolved words: 13\n"
          ]
        },
        {
          "output_type": "execute_result",
          "data": {
            "text/plain": [
              "<Axes: xlabel='turns_taken', ylabel='Count'>"
            ]
          },
          "metadata": {},
          "execution_count": 9
        },
        {
          "output_type": "display_data",
          "data": {
            "text/plain": [
              "<Figure size 640x480 with 1 Axes>"
            ],
            "image/png": "[encoded data removed]"
          },
          "metadata": {}
        }
      ]
    },
    {
      "cell_type": "code",
      "source": [
        "unsolved_words = df_all_results.query('turns_taken==7')['word'].sample(3, random_state=1)\n",
        "\n",
        "for word in unsolved_words:\n",
        "    print(f'**Target {word}**')\n",
        "    play_game(word, df_words_5l, debug=True)\n",
        "    print('\\n')"
      ],
      "metadata": {
        "colab": {
          "base_uri": "https://localhost:8080/"
        },
        "id": "nwsI2cy_rSXl",
        "outputId": "5dae9e09-552e-4a3b-884d-feaffaeb3e73"
      },
      "execution_count": null,
      "outputs": [
        {
          "output_type": "stream",
          "name": "stdout",
          "text": [
            "**Target HOMER**\n",
            "Turn 1, guess SLATE, results [0, 0, 0, 0, 1]\n",
            "\n",
            "Turn 2, guess FEVER, results [0, 0, 0, 2, 2]\n",
            "\n",
            "Turn 3, guess CIDER, results [0, 0, 0, 2, 2]\n",
            "\n",
            "Turn 4, guess POWER, results [0, 2, 0, 2, 2]\n",
            "\n",
            "Turn 5, guess ROGER, results [0, 2, 0, 2, 2]\n",
            "\n",
            "Turn 6, guess BOXER, results [0, 2, 0, 2, 2]\n",
            "\n",
            "Unsolved!\n",
            "\n",
            "\n",
            "**Target HOUND**\n",
            "Turn 1, guess SLATE, results [0, 0, 0, 0, 0]\n",
            "\n",
            "Turn 2, guess CRONY, results [0, 0, 1, 2, 0]\n",
            "\n",
            "Turn 3, guess POUND, results [0, 2, 2, 2, 2]\n",
            "\n",
            "Turn 4, guess BOUND, results [0, 2, 2, 2, 2]\n",
            "\n",
            "Turn 5, guess FOUND, results [0, 2, 2, 2, 2]\n",
            "\n",
            "Turn 6, guess WOUND, results [0, 2, 2, 2, 2]\n",
            "\n",
            "Unsolved!\n",
            "\n",
            "\n",
            "**Target JOKER**\n",
            "Turn 1, guess SLATE, results [0, 0, 0, 0, 1]\n",
            "\n",
            "Turn 2, guess FEVER, results [0, 0, 0, 2, 2]\n",
            "\n",
            "Turn 3, guess CIDER, results [0, 0, 0, 2, 2]\n",
            "\n",
            "Turn 4, guess POWER, results [0, 2, 0, 2, 2]\n",
            "\n",
            "Turn 5, guess ROGER, results [0, 2, 0, 2, 2]\n",
            "\n",
            "Turn 6, guess BOXER, results [0, 2, 0, 2, 2]\n",
            "\n",
            "Unsolved!\n",
            "\n",
            "\n"
          ]
        }
      ]
    },
    {
      "cell_type": "code",
      "source": [],
      "metadata": {
        "id": "MgRPl6HQrYAU"
      },
      "execution_count": null,
      "outputs": []
    }
  ]
}